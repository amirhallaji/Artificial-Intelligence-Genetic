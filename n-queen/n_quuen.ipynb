{
  "nbformat": 4,
  "nbformat_minor": 0,
  "metadata": {
    "colab": {
      "name": "n-quuen.ipynb",
      "provenance": [],
      "collapsed_sections": []
    },
    "kernelspec": {
      "name": "python3",
      "display_name": "Python 3"
    },
    "language_info": {
      "name": "python"
    }
  },
  "cells": [
    {
      "cell_type": "markdown",
      "metadata": {
        "id": "WHKRaWqRYxbD"
      },
      "source": [
        "<p align='center'>Imports</p>"
      ]
    },
    {
      "cell_type": "code",
      "metadata": {
        "id": "6wmDbUGNYl8I"
      },
      "source": [
        "import random\n",
        "from copy import deepcopy"
      ],
      "execution_count": null,
      "outputs": []
    },
    {
      "cell_type": "markdown",
      "metadata": {
        "id": "FkPiZWg-Ywvx"
      },
      "source": [
        "<p align='center'>Genetic Algorithm</p>"
      ]
    },
    {
      "cell_type": "code",
      "metadata": {
        "id": "yeV9xeyEYvla"
      },
      "source": [
        "def initial_population(n: int, count: int):\n",
        "  chess_field = []\n",
        "  for i in range(count):\n",
        "    rand_place = random.sample(range(0, n), n)\n",
        "    chess_field.append(rand_place)\n",
        "\n",
        "  return chess_field\n",
        "# ********************************\n",
        "\n",
        "def crossover(population: list):\n",
        "  \"\"\"\n",
        "  performing 1-point crossover\n",
        "  \"\"\"\n",
        "  random_father = random.sample(range(0, len(population)), len(population))\n",
        "  random_mother = random.sample(range(0, len(population)), len(population))\n",
        "\n",
        "  point = int(len(population[0]) / 2)\n",
        "  result = []\n",
        "  offsprings = []\n",
        "\n",
        "  for i in range(len(random_father)):\n",
        "    new_genes = []\n",
        "    father = (population[random_father[i]][0:point])[::]\n",
        "    mother = (population[random_mother[i]][point:])[::]\n",
        "    new_genes.append(father + mother)\n",
        "    result.append(new_genes)\n",
        "\n",
        "  for i in result:\n",
        "    for j in i:\n",
        "      offsprings.append(j)\n",
        "\n",
        "  return offsprings\n",
        "\n",
        "# ********************************\n",
        "\n",
        "def mutation(population: list):\n",
        "\n",
        "  \"\"\"\n",
        "  performing mutation on 20% of the population.\n",
        "  \"\"\"\n",
        "  random_selection = random.sample(range(0, len(population)), int(len(population) / 5))\n",
        "  random_position = random.sample(range(0, len(population[0])), 2)\n",
        "\n",
        "  for i in range(len(random_selection)):\n",
        "    # Swapping 2 selected positions\n",
        "    temp = deepcopy(population[random_selection[i]][random_position[0]])\n",
        "    population[random_selection[i]][random_position[0]] = deepcopy(population[random_selection[i]][random_position[1]])\n",
        "    population[random_selection[i]][random_position[1]] = deepcopy(temp)    \n",
        "\n",
        "  return population\n",
        "\n",
        "# ********************************\n",
        "\n",
        "def calc_fitness(population: list):\n",
        "  threats = []\n",
        "\n",
        "  \"\"\"\n",
        "  Checking vertical threats\n",
        "  \"\"\"\n",
        "  # We don't have any vertical threats :))))\n",
        "\n",
        "  for i in range(len(population)):\n",
        "    individual_threat = 0\n",
        "    set_of_pop = set(population[i])\n",
        "    individual_threat = deepcopy(len(population[i]) - len(set_of_pop))\n",
        "    for j in range(len(population[0])):\n",
        "      for k in range(1, len(population[0])):\n",
        "\n",
        "        # checking diagonal threats\n",
        "        col_dif = deepcopy(abs(j - k))\n",
        "        row_dif = deepcopy(abs(population[i][j] - population[i][k]))\n",
        "        if row_dif == col_dif:\n",
        "          individual_threat += 1\n",
        "\n",
        "    threats.append([individual_threat])\n",
        "  \n",
        "  return population, threats\n",
        "  \n",
        "# ********************************\n",
        "\n",
        "def choose_survivals(population: list, threats: list):\n",
        "\n",
        "  pop_with_score = []\n",
        "  for i in range(len(population)):\n",
        "    pop_with_score.append(threats[i] + population[i])\n",
        "    \n",
        "  pop_with_score.sort(key=lambda x:x[0])\n",
        "\n",
        "  # removing the last 20%\n",
        "  for i in range(int(len(pop_with_score) / 5)):\n",
        "    pop_with_score.pop()\n",
        "\n",
        "  next_generation = []\n",
        "  for i in range(len(pop_with_score)):\n",
        "    next_generation.append(pop_with_score[i][1:])\n",
        "  \n",
        "  return pop_with_score[0][0], next_generation\n",
        "\n",
        "# ********************************\n"
      ],
      "execution_count": null,
      "outputs": []
    },
    {
      "cell_type": "code",
      "metadata": {
        "colab": {
          "base_uri": "https://localhost:8080/"
        },
        "id": "7JWBTuwYZ0NS",
        "outputId": "8b91ec62-069a-414c-f5f0-d76bb12a68fe"
      },
      "source": [
        "if __name__ == '__main__':\n",
        "  \n",
        "  dim = 8\n",
        "  pop = initial_population(dim, dim*1000)\n",
        "  score = 8\n",
        "\n",
        "  for i in range(dim*1000):\n",
        "  # while score != dim:\n",
        "    # pop = crossover(pop)\n",
        "    pop = mutation(pop)\n",
        "    pop, err = calc_fitness(pop)\n",
        "    score, pop = choose_survivals(pop, err)\n",
        "  \n",
        "  res = pop[0]\n",
        "  result = []\n",
        "  for i in range(dim):\n",
        "    cols = []\n",
        "    for j in range(dim):\n",
        "      cols.append(0)\n",
        "    result.append(cols)\n",
        "  \n",
        "\n",
        "  for i in range(len(res)):\n",
        "    result[res[i]][i] = '1'\n",
        "\n",
        "  print('*******  Chess Field  ******')\n",
        "  for i in range(len(res)):\n",
        "    for j in range(len(res)):\n",
        "      print(result[i][j], end=' ')\n",
        "    print()\n",
        "  print('***********************')\n"
      ],
      "execution_count": null,
      "outputs": [
        {
          "output_type": "stream",
          "text": [
            "*******  Chess Field  ******\n",
            "0 0 0 0 0 0 1 0 \n",
            "0 1 0 0 0 0 0 0 \n",
            "0 0 0 0 0 1 0 0 \n",
            "0 0 1 0 0 0 0 0 \n",
            "1 0 0 0 0 0 0 0 \n",
            "0 0 0 1 0 0 0 0 \n",
            "0 0 0 0 0 0 0 1 \n",
            "0 0 0 0 1 0 0 0 \n",
            "***********************\n"
          ],
          "name": "stdout"
        }
      ]
    },
    {
      "cell_type": "code",
      "metadata": {
        "id": "5xR9udFTwPEF"
      },
      "source": [
        ""
      ],
      "execution_count": null,
      "outputs": []
    }
  ]
}