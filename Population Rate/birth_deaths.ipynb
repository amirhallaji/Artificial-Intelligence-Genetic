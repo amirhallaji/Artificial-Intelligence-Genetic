{
  "nbformat": 4,
  "nbformat_minor": 0,
  "metadata": {
    "colab": {
      "name": "birth-deaths.ipynb",
      "provenance": [],
      "collapsed_sections": []
    },
    "kernelspec": {
      "name": "python3",
      "display_name": "Python 3"
    },
    "language_info": {
      "name": "python"
    }
  },
  "cells": [
    {
      "cell_type": "markdown",
      "metadata": {
        "id": "FhvoIu5f8edF"
      },
      "source": [
        "<p align='center'><b>Imports</b></p>"
      ]
    },
    {
      "cell_type": "code",
      "metadata": {
        "id": "w6RNOR8oQYcK"
      },
      "source": [
        "import csv\n",
        "import pandas as pd\n",
        "import numpy as np\n",
        "import random\n",
        "import matplotlib.pyplot as plt\n",
        "from copy import deepcopy"
      ],
      "execution_count": null,
      "outputs": []
    },
    {
      "cell_type": "markdown",
      "metadata": {
        "id": "11mroSou8bJV"
      },
      "source": [
        "<p align='center'><b>Reading the dataset</b></p>"
      ]
    },
    {
      "cell_type": "code",
      "metadata": {
        "id": "n7EDykYmQgQK"
      },
      "source": [
        "df = pd.read_csv('births-deaths.csv')"
      ],
      "execution_count": null,
      "outputs": []
    },
    {
      "cell_type": "markdown",
      "metadata": {
        "id": "0y5P7nsk8xQW"
      },
      "source": [
        "<p align='center'><b>Categorizing according to Nations</b></p>"
      ]
    },
    {
      "cell_type": "code",
      "metadata": {
        "id": "KmMQbEvWRZxk"
      },
      "source": [
        "\"\"\"\n",
        "Nations: => Indians, Malayas, Chinese\n",
        "\"\"\"\n",
        "chinese_df = df.loc[df['ethnic_group'] == 'Chinese']\n",
        "indians_df = df.loc[df['ethnic_group'] == 'Indians']\n",
        "malays_df = df.loc[df['ethnic_group'] == 'Malays']"
      ],
      "execution_count": null,
      "outputs": []
    },
    {
      "cell_type": "markdown",
      "metadata": {
        "id": "Z0GdDiwQFO0e"
      },
      "source": [
        "<p align='center'><b>Normalizing Chinese Data</b></p>"
      ]
    },
    {
      "cell_type": "code",
      "metadata": {
        "id": "MTdmfwzaFPG9"
      },
      "source": [
        "\"\"\"\n",
        "******* Chinese *******\n",
        "\"\"\"\n",
        "\n",
        "with open('chinese.csv', 'w', newline='') as file:\n",
        "    writer = csv.writer(file)\n",
        "    writer.writerow([\"Year\", \"X_Axis\", \"Births\", \"Deaths\"])\n",
        "ch = pd.read_csv('chinese.csv')\n",
        "\n",
        "years = []\n",
        "for i in chinese_df['year']:\n",
        "  years.append(i)\n",
        "\n",
        "births_chinese = []\n",
        "for i in chinese_df['live_births']:\n",
        "  births_chinese.append(i)\n",
        "\n",
        "deaths_chinese = []\n",
        "for i in chinese_df['deaths']:\n",
        "  deaths_chinese.append(i)\n",
        "\n",
        "# normalizing births and deaths\n",
        "\n",
        "numpy_births = np.array(births_chinese)\n",
        "min = np.amin(numpy_births)\n",
        "max = np.amax(numpy_births)\n",
        "for i in range(len(births_chinese)):\n",
        "  births_chinese[i] = (numpy_births[i] - min) / (max - min)\n",
        "\n",
        "numpy_deaths = np.array(deaths_chinese)\n",
        "min = np.amin(numpy_deaths)\n",
        "max = np.amax(numpy_deaths)\n",
        "for i in range(len(deaths_chinese)):\n",
        "  deaths_chinese[i] = (numpy_deaths[i] - min) / (max - min)\n",
        "\n",
        "years = pd.Series(years)\n",
        "ch['Year'] = years\n",
        "\n",
        "births_chinese = pd.Series(births_chinese)\n",
        "ch['Births'] = births_chinese\n",
        "deaths_chinese = pd.Series(deaths_chinese)\n",
        "ch['Deaths'] = deaths_chinese\n",
        "\n",
        "chinese_birth_target = list(ch['Births'])\n",
        "chinese_death_target = list(ch['Deaths'])"
      ],
      "execution_count": null,
      "outputs": []
    },
    {
      "cell_type": "markdown",
      "metadata": {
        "id": "IraSwX8qFbOe"
      },
      "source": [
        "<p align='center'><b>Normalizing Indians Data</b></p>"
      ]
    },
    {
      "cell_type": "code",
      "metadata": {
        "id": "5s4RPYVl1FDV"
      },
      "source": [
        "\"\"\"\n",
        "****** Indians *******\n",
        "\"\"\"\n",
        "with open('indians.csv', 'w', newline='') as file:\n",
        "    writer = csv.writer(file)\n",
        "    writer.writerow([\"Year\", \"X_Axis\", \"Births\", \"Deaths\"])\n",
        "indians = pd.read_csv('indians.csv')\n",
        "\n",
        "births_indians = []\n",
        "for i in indians_df['live_births']:\n",
        "  births_indians.append(i)\n",
        "\n",
        "deaths_indians = []\n",
        "for i in indians_df['deaths']:\n",
        "  deaths_indians.append(i)\n",
        "\n",
        "# normalizing births and deaths\n",
        "\n",
        "numpy_births = np.array(births_indians)\n",
        "min = np.amin(numpy_births)\n",
        "max = np.amax(numpy_births)\n",
        "for i in range(len(births_indians)):\n",
        "  births_indians[i] = (numpy_births[i] - min) / (max - min)\n",
        "\n",
        "numpy_deaths = np.array(deaths_indians)\n",
        "min = np.amin(numpy_deaths)\n",
        "max = np.amax(numpy_deaths)\n",
        "for i in range(len(deaths_indians)):\n",
        "  deaths_indians[i] = (numpy_deaths[i] - min) / (max - min)\n",
        "\n",
        "years = pd.Series(years)\n",
        "indians['Year'] = years\n",
        "\n",
        "births_indians = pd.Series(births_indians)\n",
        "indians['Births'] = births_indians\n",
        "deaths_indians = pd.Series(deaths_indians)\n",
        "indians['Deaths'] = deaths_indians\n",
        "\n",
        "indians_birth_target = list(indians['Births'])\n",
        "indians_death_target = list(indians['Deaths'])"
      ],
      "execution_count": null,
      "outputs": []
    },
    {
      "cell_type": "markdown",
      "metadata": {
        "id": "BKdL_OTnFgup"
      },
      "source": [
        "<p align='center'><b>Normalizing Malays Data</b></p>"
      ]
    },
    {
      "cell_type": "code",
      "metadata": {
        "id": "0ClHZ3KGFg4y"
      },
      "source": [
        "\"\"\"\n",
        "****** Malays *******\n",
        "\"\"\"\n",
        "with open('malays.csv', 'w', newline='') as file:\n",
        "    writer = csv.writer(file)\n",
        "    writer.writerow([\"Year\", \"X_Axis\", \"Births\", \"Deaths\"])\n",
        "malays = pd.read_csv('malays.csv')\n",
        "\n",
        "births_malays = []\n",
        "for i in malays_df['live_births']:\n",
        "  births_malays.append(i)\n",
        "\n",
        "deaths_malays = []\n",
        "for i in malays_df['deaths']:\n",
        "  deaths_malays.append(i)\n",
        "\n",
        "\n",
        "# normalizing births and deaths\n",
        "\n",
        "numpy_births = np.array(births_malays)\n",
        "min = np.amin(numpy_births)\n",
        "max = np.amax(numpy_births)\n",
        "for i in range(len(births_malays)):\n",
        "  births_malays[i] = (numpy_births[i] - min) / (max - min)\n",
        "\n",
        "\n",
        "numpy_deaths = np.array(deaths_malays)\n",
        "min = np.amin(numpy_deaths)\n",
        "max = np.amax(numpy_deaths)\n",
        "for i in range(len(deaths_malays)):\n",
        "  deaths_malays[i] = (numpy_deaths[i] - min) / (max - min)\n",
        "\n",
        "years = pd.Series(years)\n",
        "malays['Year'] = years\n",
        "\n",
        "births_malays = pd.Series(births_malays)\n",
        "malays['Births'] = births_malays\n",
        "deaths_malays = pd.Series(deaths_malays)\n",
        "malays['Deaths'] = deaths_malays\n",
        "\n",
        "malays_birth_target = list(malays['Births'])\n",
        "malays_death_target = list(malays['Deaths'])"
      ],
      "execution_count": null,
      "outputs": []
    },
    {
      "cell_type": "markdown",
      "metadata": {
        "id": "qDQm0FqtVbXQ"
      },
      "source": [
        "<p align='center'><b>Normalizing x axis</b></p>"
      ]
    },
    {
      "cell_type": "code",
      "metadata": {
        "id": "MSf1RuTEVbf9"
      },
      "source": [
        "\"\"\"\n",
        "Normalizing X_Axis\n",
        "\"\"\"\n",
        "x_axis = []\n",
        "for i in range(0, len(chinese_df['year'])):\n",
        "  x_axis.append((i+1))\n",
        "\n",
        "numpy_x_axis = np.array(x_axis)\n",
        "min_x = np.amin(numpy_x_axis)\n",
        "max_x = np.amax(numpy_x_axis)\n",
        "\n",
        "\n",
        "for i in range(len(ch['X_Axis'])):\n",
        "  x_axis[i] = (numpy_x_axis[i] - min_x) / (max_x - min_x)\n",
        "\n",
        "x_axis = pd.Series(x_axis)\n",
        "ch['X_Axis'] = x_axis\n",
        "indians['X_Axis'] = x_axis\n",
        "malays['X_Axis'] = x_axis"
      ],
      "execution_count": null,
      "outputs": []
    },
    {
      "cell_type": "markdown",
      "metadata": {
        "id": "n4dBSFR7_qF-"
      },
      "source": [
        "<p align='center'><b>Implementing Genetic Algortihm</p>"
      ]
    },
    {
      "cell_type": "code",
      "metadata": {
        "id": "LEqOR4PrW7oE"
      },
      "source": [
        "def initial_population(degree: int, count: int):\n",
        "    coefficients = []\n",
        "    for i in range(count):\n",
        "        cols = []\n",
        "        for j in range(degree+1):\n",
        "            rand = random.uniform(0, 1)\n",
        "            cols.append(rand)\n",
        "        coefficients.append(cols)\n",
        "    return coefficients\n",
        "\n",
        "#----------------------------------\n",
        "\n",
        "def crossover(coefficients: list):\n",
        "    offsprings = []\n",
        "\n",
        "    random_father = random.sample(range(0, len(coefficients)), len(coefficients))\n",
        "    random_mother = random.sample(range(0, len(coefficients)), len(coefficients))\n",
        "\n",
        "    point = int(len(coefficients[0]) / 2)\n",
        "    for i in range(0, len(random_father)):\n",
        "      new_genes = []\n",
        "      father = (coefficients[random_father[i]][0:point])[::]\n",
        "      mother = (coefficients[random_mother[i]][point:])[::]\n",
        "      new_genes.append(father + mother)\n",
        "      offsprings.append(new_genes)\n",
        "    \n",
        "    result = []\n",
        "    for i in offsprings:\n",
        "      for j in i:\n",
        "        result.append(j)\n",
        "    return result\n",
        "#----------------------------------\n",
        "\n",
        "def mutation(coefficients: list):\n",
        "    random_positions = random.sample(range(len(coefficients)), int(len(coefficients)/5))\n",
        "\n",
        "    for i in range(0, len(random_positions)):\n",
        "      for j in range(0, len(coefficients[0])):\n",
        "        rand = random.uniform(0, 1)\n",
        "        add_or_minus = random.randint(0, 1)\n",
        "        if add_or_minus == 1:\n",
        "            plus_rand = deepcopy(coefficients[i][j] + rand)\n",
        "            if -1 <= plus_rand <= 1:\n",
        "              coefficients[i][j] = deepcopy(plus_rand)\n",
        "        else:\n",
        "            minus_rand = deepcopy(coefficients[i][j] - rand)\n",
        "            if -1 <= minus_rand <= 1:\n",
        "              coefficients[i][j] = deepcopy(minus_rand)\n",
        "    return coefficients\n",
        "#----------------------------------\n",
        "\n",
        "def calc_fitness(population: list, target: list):\n",
        "    error_values = []\n",
        "    polynomials = []\n",
        "    \n",
        "    for i in range(len(population)):\n",
        "      polynomials.append(np.poly1d(population[i]))\n",
        "    \n",
        "    poly_values = []\n",
        "    for i in range(len(population)):\n",
        "      values = []\n",
        "      for j in range(len(target)):\n",
        "        values.append((polynomials[i])(x_axis[j]))\n",
        "      poly_values.append(values)\n",
        "\n",
        "    for i in range(len(polynomials)):\n",
        "      single_error = 0\n",
        "      for j in range(len(target)):\n",
        "        single_error += abs(poly_values[i][j] - target[j])\n",
        "      error_values.append([single_error])\n",
        "  \n",
        "    return population, error_values\n",
        "\n",
        "#----------------------------------\n",
        "\n",
        "def choose_survivals(population: list, error_values: list):\n",
        "    pop_with_error = []\n",
        "    for i in range(0, len(population)):\n",
        "        pop_with_error.append(error_values[i] + population[i])\n",
        "        \n",
        "    pop_with_error.sort(key=lambda x: x[0])\n",
        "\n",
        "    for i in range(0, int(len(pop_with_error)/5)):\n",
        "      pop_with_error.pop()\n",
        "    \n",
        "    \n",
        "    next_generation = []\n",
        "    for i in range(0, len(pop_with_error)):\n",
        "      next_generation.append(pop_with_error[i][1:])\n",
        "\n",
        "    return next_generation\n",
        "\n",
        "#-------------------------------------\n",
        "\n",
        "if __name__ == '__main__':\n",
        "  chinese_birth_pop = initial_population(4, 1000)\n",
        "  chinese_death_pop = initial_population(4, 1000)\n",
        "\n",
        "  indians_birth_pop = initial_population(4, 1000)\n",
        "  indians_death_pop = initial_population(4, 1000)\n",
        "\n",
        "  malays_birth_pop = initial_population(4, 1000)\n",
        "  malays_death_pop = initial_population(4, 1000)\n",
        "\n",
        "  for i in range(2500):\n",
        "    # Chinese Births\n",
        "    chinese_birth_pop = crossover(chinese_birth_pop)\n",
        "    chinese_birth_pop = mutation(chinese_birth_pop)\n",
        "    chinese_birth_pop, err_chinese_birth = calc_fitness(chinese_birth_pop, chinese_birth_target)\n",
        "    chinese_birth_pop = choose_survivals(chinese_birth_pop, err_chinese_birth)\n",
        "\n",
        "    # Chinese Deaths\n",
        "    chinese_death_pop = crossover(chinese_death_pop)\n",
        "    chinese_death_pop = mutation(chinese_death_pop)\n",
        "    chinese_death_pop, err_chinese_death = calc_fitness(chinese_death_pop, chinese_death_target)\n",
        "    chinese_death_pop = choose_survivals(chinese_death_pop, err_chinese_death)\n",
        "\n",
        "\n",
        "    # Indians Births\n",
        "    indians_birth_pop = crossover(indians_birth_pop)\n",
        "    indians_birth_pop = mutation(indians_birth_pop)\n",
        "    indians_birth_pop, err_indians_birth = calc_fitness(indians_birth_pop, indians_birth_target)\n",
        "    indians_birth_pop = choose_survivals(indians_birth_pop, err_indians_birth)\n",
        "\n",
        "    # Indians Deaths\n",
        "    indians_death_pop = crossover(indians_death_pop)\n",
        "    indians_death_pop = mutation(indians_death_pop)\n",
        "    indians_death_pop, err_indians_death = calc_fitness(indians_death_pop, indians_death_target)\n",
        "    indians_death_pop = choose_survivals(indians_death_pop, err_indians_death)\n",
        "\n",
        "\n",
        "    # Malays Births\n",
        "    malays_birth_pop = crossover(malays_birth_pop)\n",
        "    malays_birth_pop = mutation(malays_birth_pop)\n",
        "    malays_birth_pop, err_malays_birth = calc_fitness(malays_birth_pop, malays_birth_target)\n",
        "    malays_birth_pop = choose_survivals(malays_birth_pop, err_malays_birth)\n",
        "\n",
        "\n",
        "    # Malays Deaths\n",
        "    malays_death_pop = crossover(malays_death_pop)\n",
        "    malays_death_pop = mutation(malays_death_pop)\n",
        "    malays_death_pop, err_malays_death = calc_fitness(malays_death_pop, malays_death_target)\n",
        "    malays_death_pop = choose_survivals(malays_death_pop, err_malays_death)"
      ],
      "execution_count": null,
      "outputs": []
    },
    {
      "cell_type": "markdown",
      "metadata": {
        "id": "SFtNelmNP3WF"
      },
      "source": [
        "<p align='center'><b>Results and Data Denormalization</b></p>"
      ]
    },
    {
      "cell_type": "code",
      "metadata": {
        "id": "zfFkWos8gkLl"
      },
      "source": [
        "\"\"\"\n",
        "**** Chinese Nation\n",
        "\"\"\"\n",
        "# Chinese Birth\n",
        "\n",
        "chinese_birth_results = np.polyval(chinese_birth_pop[0], ch['X_Axis'])\n",
        "\n",
        "numpy_targets = np.array(chinese_birth_results)\n",
        "min_t = np.amin(numpy_targets)\n",
        "max_t = np.amax(numpy_targets)\n",
        "for i in range(len(chinese_birth_results)):\n",
        "  chinese_birth_results[i] = (numpy_targets[i] - min_t) / (max_t - min_t)\n",
        "\n",
        "ch_b_t = []\n",
        "for i in chinese_df['live_births']:\n",
        "  ch_b_t.append(i)\n",
        "\n",
        "for i in range(len(ch_b_t)):\n",
        "  chinese_birth_results[i] = chinese_birth_results[i] * (np.amax(ch_b_t) - np.amin(ch_b_t)) + np.amin(ch_b_t)\n",
        "\n",
        "# Chinese Death\n",
        "\n",
        "chinese_death_results = np.polyval(chinese_death_pop[0], ch['X_Axis'])\n",
        "\n",
        "numpy_targets = np.array(chinese_death_results)\n",
        "min_t = np.amin(numpy_targets)\n",
        "max_t = np.amax(numpy_targets)\n",
        "for i in range(len(chinese_death_results)):\n",
        "  chinese_death_results[i] = (numpy_targets[i] - min_t) / (max_t - min_t)\n",
        "\n",
        "ch_d_t = []\n",
        "for i in chinese_df['deaths']:\n",
        "  ch_d_t.append(i)\n",
        "\n",
        "for i in range(len(ch_d_t)):\n",
        "  chinese_death_results[i] = chinese_death_results[i] * (np.amax(ch_d_t) - np.amin(ch_d_t)) + np.amin(ch_d_t) \n",
        "\n",
        "\"\"\"\n",
        "**** Indians Nation\n",
        "\"\"\"\n",
        "\n",
        "# Indians Birth\n",
        "\n",
        "indians_birth_results = np.polyval(indians_birth_pop[0], indians['X_Axis'])\n",
        "\n",
        "numpy_targets = np.array(indians_birth_results)\n",
        "min_t = np.amin(numpy_targets)\n",
        "max_t = np.amax(numpy_targets)\n",
        "for i in range(len(indians_birth_results)):\n",
        "  indians_birth_results[i] = (numpy_targets[i] - min_t) / (max_t - min_t)\n",
        "\n",
        "in_b_t = []\n",
        "for i in indians_df['live_births']:\n",
        "  in_b_t.append(i)\n",
        "\n",
        "for i in range(len(in_b_t)):\n",
        "  indians_birth_results[i] = indians_birth_results[i] * (np.amax(in_b_t) - np.amin(in_b_t)) + np.amin(in_b_t)\n",
        "\n",
        "\n",
        "# Indians Death\n",
        "\n",
        "indians_death_results = np.polyval(indians_death_pop[0], indians['X_Axis'])\n",
        "\n",
        "numpy_targets = np.array(indians_death_results)\n",
        "min_t = np.amin(numpy_targets)\n",
        "max_t = np.amax(numpy_targets)\n",
        "for i in range(len(indians_death_results)):\n",
        "  indians_death_results[i] = (numpy_targets[i] - min_t) / (max_t - min_t)\n",
        "\n",
        "in_d_t = []\n",
        "for i in indians_df['deaths']:\n",
        "  in_d_t.append(i)\n",
        "\n",
        "for i in range(len(in_d_t)):\n",
        "  indians_death_results[i] = indians_death_results[i] * (np.amax(in_d_t) - np.amin(in_d_t)) + np.amin(in_d_t)\n",
        "\n",
        "\"\"\"\n",
        "**** Malays Nation\n",
        "\"\"\"\n",
        "\n",
        "# Malays Birth\n",
        "\n",
        "malays_birth_results = np.polyval(malays_birth_pop[0], malays['X_Axis'])\n",
        "\n",
        "numpy_targets = np.array(malays_birth_results)\n",
        "min_t = np.amin(numpy_targets)\n",
        "max_t = np.amax(numpy_targets)\n",
        "for i in range(len(malays_birth_results)):\n",
        "  malays_birth_results[i] = (numpy_targets[i] - min_t) / (max_t - min_t)\n",
        "\n",
        "ml_b_t = []\n",
        "for i in malays_df['live_births']:\n",
        "  ml_b_t.append(i)\n",
        "\n",
        "for i in range(len(ml_b_t)):\n",
        "  malays_birth_results[i] = malays_birth_results[i] * (np.amax(ml_b_t) - np.amin(ml_b_t)) + np.amin(ml_b_t)\n",
        "\n",
        "# Malays Death\n",
        "\n",
        "malays_death_results = np.polyval(malays_death_pop[0], malays['X_Axis'])\n",
        "\n",
        "numpy_targets = np.array(malays_death_results)\n",
        "min_t = np.amin(numpy_targets)\n",
        "max_t = np.amax(numpy_targets)\n",
        "for i in range(len(malays_death_results)):\n",
        "  malays_death_results[i] = (numpy_targets[i] - min_t) / (max_t - min_t)\n",
        "\n",
        "ml_d_t = []\n",
        "for i in malays_df['deaths']:\n",
        "  ml_d_t.append(i)\n",
        "\n",
        "for i in range(len(ml_d_t)):\n",
        "  malays_death_results[i] = malays_death_results[i] * (np.amax(ml_d_t) - np.amin(ml_d_t)) + np.amin(ml_d_t)"
      ],
      "execution_count": null,
      "outputs": []
    },
    {
      "cell_type": "markdown",
      "metadata": {
        "id": "0B48-_J1R8OC"
      },
      "source": [
        "<p align='center'><b>Chinese Birth Plot</b></p>"
      ]
    },
    {
      "cell_type": "code",
      "metadata": {
        "colab": {
          "base_uri": "https://localhost:8080/",
          "height": 296
        },
        "id": "SFxsdCk-hKoo",
        "outputId": "b6851662-1b77-495a-98dd-8b7918b925f7"
      },
      "source": [
        "plt.plot(ch['Year'], chinese_df['live_births'], '*', color='g')\n",
        "plt.plot(ch['Year'], chinese_birth_results)\n",
        "plt.xlabel('Year')\n",
        "plt.ylabel('Population')"
      ],
      "execution_count": null,
      "outputs": [
        {
          "output_type": "execute_result",
          "data": {
            "text/plain": [
              "Text(0, 0.5, 'Population')"
            ]
          },
          "metadata": {
            "tags": []
          },
          "execution_count": 18
        },
        {
          "output_type": "display_data",
          "data": {
            "image/png": "[encoded data removed]",
            "text/plain": [
              "<Figure size 432x288 with 1 Axes>"
            ]
          },
          "metadata": {
            "tags": [],
            "needs_background": "light"
          }
        }
      ]
    },
    {
      "cell_type": "markdown",
      "metadata": {
        "id": "UxRx7Li8SFLT"
      },
      "source": [
        "<p align='center'><b>Chinese Death Plot</b></p>"
      ]
    },
    {
      "cell_type": "code",
      "metadata": {
        "colab": {
          "base_uri": "https://localhost:8080/",
          "height": 296
        },
        "id": "B-EerULDSFVr",
        "outputId": "dbaa7862-c2fd-44ed-e56a-860e78552c3c"
      },
      "source": [
        "plt.plot(ch['Year'], chinese_df['deaths'], '*', color='g')\n",
        "plt.plot(ch['Year'], chinese_death_results)\n",
        "plt.xlabel('Year')\n",
        "plt.ylabel('Population')"
      ],
      "execution_count": null,
      "outputs": [
        {
          "output_type": "execute_result",
          "data": {
            "text/plain": [
              "Text(0, 0.5, 'Population')"
            ]
          },
          "metadata": {
            "tags": []
          },
          "execution_count": 19
        },
        {
          "output_type": "display_data",
          "data": {
            "image/png": "[encoded data removed]",
            "text/plain": [
              "<Figure size 432x288 with 1 Axes>"
            ]
          },
          "metadata": {
            "tags": [],
            "needs_background": "light"
          }
        }
      ]
    },
    {
      "cell_type": "markdown",
      "metadata": {
        "id": "hbfjI2s0SFg8"
      },
      "source": [
        "<p align='center'><b>Indians Birth Plot</b></p>"
      ]
    },
    {
      "cell_type": "code",
      "metadata": {
        "colab": {
          "base_uri": "https://localhost:8080/",
          "height": 298
        },
        "id": "jJy36yw6SFrG",
        "outputId": "6da40488-dcd8-4fd9-ba62-a83c5e7d4a18"
      },
      "source": [
        "plt.plot(indians['Year'], indians_df['live_births'], '*', color='g')\n",
        "plt.plot(indians['Year'], indians_birth_results)\n",
        "plt.xlabel('Year')\n",
        "plt.ylabel('Population')"
      ],
      "execution_count": null,
      "outputs": [
        {
          "output_type": "execute_result",
          "data": {
            "text/plain": [
              "Text(0, 0.5, 'Population')"
            ]
          },
          "metadata": {
            "tags": []
          },
          "execution_count": 20
        },
        {
          "output_type": "display_data",
          "data": {
            "image/png": "[encoded data removed]",
            "text/plain": [
              "<Figure size 432x288 with 1 Axes>"
            ]
          },
          "metadata": {
            "tags": [],
            "needs_background": "light"
          }
        }
      ]
    },
    {
      "cell_type": "markdown",
      "metadata": {
        "id": "Z_mWi5xwSF4N"
      },
      "source": [
        "<p align='center'><b>Indians Death Plot</b></p>"
      ]
    },
    {
      "cell_type": "code",
      "metadata": {
        "colab": {
          "base_uri": "https://localhost:8080/",
          "height": 296
        },
        "id": "Yr4070yWSGCB",
        "outputId": "05ff3b05-b856-440f-f5fc-9492058b615d"
      },
      "source": [
        "plt.plot(indians_df['year'], indians_df['deaths'], '*' , color='g')\n",
        "plt.plot(indians_df['year'], indians_death_results)\n",
        "plt.xlabel('Year')\n",
        "plt.ylabel('Population')"
      ],
      "execution_count": null,
      "outputs": [
        {
          "output_type": "execute_result",
          "data": {
            "text/plain": [
              "Text(0, 0.5, 'Population')"
            ]
          },
          "metadata": {
            "tags": []
          },
          "execution_count": 21
        },
        {
          "output_type": "display_data",
          "data": {
            "image/png": "[encoded data removed]",
            "text/plain": [
              "<Figure size 432x288 with 1 Axes>"
            ]
          },
          "metadata": {
            "tags": [],
            "needs_background": "light"
          }
        }
      ]
    },
    {
      "cell_type": "markdown",
      "metadata": {
        "id": "4V76KSRZSMyH"
      },
      "source": [
        "<p align='center'><b>Malays Birth Plot</b></p>"
      ]
    },
    {
      "cell_type": "code",
      "metadata": {
        "colab": {
          "base_uri": "https://localhost:8080/",
          "height": 296
        },
        "id": "ew8C0tLTSM58",
        "outputId": "067bdca9-55d1-4a50-ebdd-31c3e67cd4e6"
      },
      "source": [
        "plt.plot(malays_df['year'], malays_df['live_births'], '*', color='g')\n",
        "plt.plot(malays_df['year'], malays_birth_results)\n",
        "plt.xlabel('Year')\n",
        "plt.ylabel('Population')"
      ],
      "execution_count": null,
      "outputs": [
        {
          "output_type": "execute_result",
          "data": {
            "text/plain": [
              "Text(0, 0.5, 'Population')"
            ]
          },
          "metadata": {
            "tags": []
          },
          "execution_count": 22
        },
        {
          "output_type": "display_data",
          "data": {
            "image/png": "[encoded data removed]",
            "text/plain": [
              "<Figure size 432x288 with 1 Axes>"
            ]
          },
          "metadata": {
            "tags": [],
            "needs_background": "light"
          }
        }
      ]
    },
    {
      "cell_type": "markdown",
      "metadata": {
        "id": "18fpHf53SNCD"
      },
      "source": [
        "<p align='center'><b>Malays Death Plot</b></p>"
      ]
    },
    {
      "cell_type": "code",
      "metadata": {
        "colab": {
          "base_uri": "https://localhost:8080/",
          "height": 296
        },
        "id": "CPdEZa8XSNH9",
        "outputId": "a943539d-8480-4387-b4ca-6d3ed6d384f0"
      },
      "source": [
        "plt.plot(malays_df['year'], malays_df['deaths'], '*',color='g')\n",
        "plt.plot(malays_df['year'], malays_death_results)\n",
        "plt.xlabel('Year')\n",
        "plt.ylabel('Population')"
      ],
      "execution_count": null,
      "outputs": [
        {
          "output_type": "execute_result",
          "data": {
            "text/plain": [
              "Text(0, 0.5, 'Population')"
            ]
          },
          "metadata": {
            "tags": []
          },
          "execution_count": 23
        },
        {
          "output_type": "display_data",
          "data": {
            "image/png": "[encoded data removed]",
            "text/plain": [
              "<Figure size 432x288 with 1 Axes>"
            ]
          },
          "metadata": {
            "tags": [],
            "needs_background": "light"
          }
        }
      ]
    }
  ]
}